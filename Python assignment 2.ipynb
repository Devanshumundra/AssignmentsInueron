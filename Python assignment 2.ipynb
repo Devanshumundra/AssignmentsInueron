{
 "cells": [
  {
   "cell_type": "markdown",
   "id": "30887ac7",
   "metadata": {},
   "source": [
    "1. Create the below pattern using nested for loop in Python. \n",
    "    * \n",
    "    * * \n",
    "    * * * \n",
    "    * * * * \n",
    "    * * * * * \n",
    "    * * * * \n",
    "    * * * \n",
    "    * * \n",
    "    * \n"
   ]
  },
  {
   "cell_type": "code",
   "execution_count": 1,
   "id": "0b2e83a3",
   "metadata": {},
   "outputs": [
    {
     "name": "stdout",
     "output_type": "stream",
     "text": [
      "Enter the no. of rows:5\n",
      "* \n",
      "* * \n",
      "* * * \n",
      "* * * * \n",
      "* * * * * \n",
      "* * * * \n",
      "* * * \n",
      "* * \n",
      "* \n"
     ]
    }
   ],
   "source": [
    "rows=int(input(\"Enter the no. of rows:\"))\n",
    "for i in range(0,rows):\n",
    "    for j in range(0,i+1):\n",
    "        print(\"*\",end=\" \")\n",
    "    print(\"\")\n",
    "for i in range(rows-1,0,-1):\n",
    "    for j in range(0,i):\n",
    "        print(\"*\",end=\" \")\n",
    "    print(\"\")\n",
    "        \n"
   ]
  },
  {
   "cell_type": "markdown",
   "id": "35f1fcf2",
   "metadata": {},
   "source": [
    "2.Write a Python program to reverse a word after accepting the input from the user."
   ]
  },
  {
   "cell_type": "code",
   "execution_count": 4,
   "id": "e7c401c8",
   "metadata": {},
   "outputs": [
    {
     "name": "stdout",
     "output_type": "stream",
     "text": [
      "Enter the word to reverse : devanshu mundra\n",
      "ardnum uhsnaved\n"
     ]
    }
   ],
   "source": [
    "word=input(\"Enter the word to reverse : \")\n",
    "print(word[::-1])"
   ]
  },
  {
   "cell_type": "code",
   "execution_count": null,
   "id": "e8670ec5",
   "metadata": {},
   "outputs": [],
   "source": []
  }
 ],
 "metadata": {
  "kernelspec": {
   "display_name": "Python 3",
   "language": "python",
   "name": "python3"
  },
  "language_info": {
   "codemirror_mode": {
    "name": "ipython",
    "version": 3
   },
   "file_extension": ".py",
   "mimetype": "text/x-python",
   "name": "python",
   "nbconvert_exporter": "python",
   "pygments_lexer": "ipython3",
   "version": "3.8.8"
  }
 },
 "nbformat": 4,
 "nbformat_minor": 5
}
